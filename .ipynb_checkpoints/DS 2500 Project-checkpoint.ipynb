{
 "cells": [
  {
   "cell_type": "code",
   "execution_count": 1,
   "id": "respective-dating",
   "metadata": {},
   "outputs": [
    {
     "name": "stdout",
     "output_type": "stream",
     "text": [
      "Do you work in-person? [y/n] \n",
      "y\n",
      "How many people in contact with per week? (#)\n",
      "15\n",
      "Are you regularly exposed to individuals who are at risk for COVID-19? [y/n] \n",
      "n\n",
      "[0.0525]\n"
     ]
    }
   ],
   "source": [
    "from sklearn.preprocessing import MinMaxScaler\n",
    "'''\n",
    "Dictionary with common occupations\n",
    "\"Other\" option will ask a series of questions to determine the score for that occupation\n",
    "\n",
    "Questions: (score is always less than 1.0)\n",
    "1. Remote or not remote? (0 or 1)\n",
    "    a. If not remote, how many people in contact with per week? (minmaxscaler)\n",
    "2. Are you regularly exposed to individuals diagnosed with COVID-19? (0 or 1)\n",
    "\n",
    "Weigted Average all 3 question scores\n",
    "'''\n",
    "occupations = {\n",
    "    'Health Care Worker': 1.0,\n",
    "    'First Responder': 0.9,\n",
    "    'Corrections Workers': 0.9,\n",
    "    'Food and Agriculture': 0.9,\n",
    "    'Grocery Store Workers': 0.9,\n",
    "    'Education': 0.9,\n",
    "    'U.S. Postal Service Workers': 0.9,\n",
    "    'Public Transit Workers': 0.9,\n",
    "    'Manufacturing': 0.9,\n",
    "    'Transportation and Logistics': 0.8,\n",
    "    'Food Service': 0.8,\n",
    "    'Energy': 0.8,\n",
    "    'Water and Wastewater': 0.8,\n",
    "    'Shelter and Housing': 0.8,\n",
    "    'IT and Communication': 0.8,\n",
    "    'News Media': 0.8,\n",
    "    'Public Safety': 0.8,\n",
    "    'Public Health Workers': 0.8,\n",
    "    'Finance': 0.8,\n",
    "    'Legal': 0.8,\n",
    "    'Other': 0.0}\n",
    "    \n",
    "# Questions for the \"Other\" category\n",
    "\n",
    "# Contact\n",
    "while True:\n",
    "    remote_question = input('Do you work in-person? [y/n] \\n')\n",
    "    if remote_question == 'n':\n",
    "        contact = 0\n",
    "        break\n",
    "    elif remote_question == 'y':\n",
    "\n",
    "        # Contact score for non-remote workers\n",
    "        contact_question = input('How many people in contact with per week? (#)\\n')\n",
    "        num_contact = [[0],[100],[contact_question]]\n",
    "        scaler = MinMaxScaler()\n",
    "        x = scaler.fit(num_contact)\n",
    "        contact = x.transform(num_contact)[-1]\n",
    "        break\n",
    "    else:\n",
    "        print('Please retype your answer \\n')\n",
    "\n",
    "# Exposure\n",
    "while True:\n",
    "    exposure_question = input('Are you regularly exposed to individuals who are at risk for COVID-19? [y/n] \\n')\n",
    "    if exposure_question == 'y':\n",
    "        exposure = 1\n",
    "        break\n",
    "    elif exposure_question == 'n':\n",
    "        exposure = 0\n",
    "        break\n",
    "    else:\n",
    "        print('Please retype your answer \\n')\n",
    "\n",
    "\n",
    "occupation_avg = 0.35 * contact + 0.65 * exposure\n",
    "print(occupation_avg)"
   ]
  },
  {
   "cell_type": "code",
   "execution_count": 18,
   "id": "painted-floating",
   "metadata": {},
   "outputs": [
    {
     "data": {
      "image/png": "[encoded data removed]",
      "text/plain": [
       "<Figure size 432x288 with 1 Axes>"
      ]
     },
     "metadata": {
      "needs_background": "light"
     },
     "output_type": "display_data"
    }
   ],
   "source": [
    "# Cleaning the Gender data\n",
    "import pandas as pd\n",
    "import matplotlib.pyplot as plt\n",
    "\n",
    "# Import the csv file as a dataframe\n",
    "df = pd.read_csv('Provisional_COVID-19_Death_Counts_by_Sex__Age__and_State.csv')\n",
    "\n",
    "# Include only the Group, State, Sex, Age Group, and COVID-19 Deaths columns\n",
    "df = df[['Group','State', 'Sex', 'Age Group', 'COVID-19 Deaths']]\n",
    "\n",
    "# Include Male and Female (not All Sexes)\n",
    "df = df[(df['Sex'] == 'Male') | (df['Sex'] == 'Female')]\n",
    "\n",
    "# Include people from all age groups, the entire country, over all time\n",
    "gender = df[(df['Age Group'] == 'All Ages') & (df['State'] == 'United States') & (df['Group'] == 'By Total')]\n",
    "\n",
    "US_POP = 328.2e6\n",
    "\n",
    "gender = gender.set_index('Sex')\n",
    "gender['% Deaths'] = (gender['COVID-19 Deaths'] / gender['COVID-19 Deaths'].sum()) * 100\n",
    "gender\n",
    "\n",
    "plt.bar(['Male', 'Female'], gender['% Deaths'])\n",
    "plt.title('% of COVID-19 Related Deaths per Gender')\n",
    "plt.ylabel('% of COVID-19 Deaths')\n",
    "plt.show()"
   ]
  },
  {
   "cell_type": "code",
   "execution_count": 3,
   "id": "reflected-circulation",
   "metadata": {},
   "outputs": [
    {
     "data": {
      "text/plain": [
       "17      Male\n",
       "34    Female\n",
       "Name: Sex, dtype: object"
      ]
     },
     "execution_count": 3,
     "metadata": {},
     "output_type": "execute_result"
    }
   ],
   "source": []
  }
 ],
 "metadata": {
  "kernelspec": {
   "display_name": "Python 3",
   "language": "python",
   "name": "python3"
  },
  "language_info": {
   "codemirror_mode": {
    "name": "ipython",
    "version": 3
   },
   "file_extension": ".py",
   "mimetype": "text/x-python",
   "name": "python",
   "nbconvert_exporter": "python",
   "pygments_lexer": "ipython3",
   "version": "3.9.0"
  }
 },
 "nbformat": 4,
 "nbformat_minor": 5
}
