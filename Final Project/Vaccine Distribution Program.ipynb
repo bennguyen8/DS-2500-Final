{
 "cells": [
  {
   "cell_type": "markdown",
   "id": "unauthorized-faith",
   "metadata": {},
   "source": [
    "# Vaccine Distribution Program\n",
    "## DS 2500 Project\n",
    "### Sanjana Bhagavatula, John Drohan, Ben Nguyen, Nico Gaspar"
   ]
  },
  {
   "cell_type": "code",
   "execution_count": 1,
   "id": "charged-belfast",
   "metadata": {},
   "outputs": [],
   "source": [
    "# Import Functions\n",
    "%run Functions.ipynb"
   ]
  },
  {
   "cell_type": "markdown",
   "id": "aggressive-hurricane",
   "metadata": {},
   "source": [
    "## Data clean up and analysis"
   ]
  },
  {
   "cell_type": "markdown",
   "id": "general-dylan",
   "metadata": {},
   "source": [
    "#### Age"
   ]
  },
  {
   "cell_type": "code",
   "execution_count": 2,
   "id": "registered-baseline",
   "metadata": {},
   "outputs": [],
   "source": [
    "# Read csv\n",
    "age_df = pd.read_csv(\"Provisional_COVID-19_Death_Counts_by_Sex__Age__and_State.csv\")\n",
    "\n",
    "# Drop redundant rows to look at only ages\n",
    "age_df = age_df[ (age_df[\"Group\"] == \"By Total\") & (age_df[\"State\"] == \"United States\") & (age_df[\"Sex\"] == \"All Sexes\") ]\n",
    "\n",
    "# Drop columns to look at only ages and deaths\n",
    "age_df = age_df[[\"Age Group\", \"COVID-19 Deaths\"]]\n",
    "\n",
    "# Drop additional groups to get continuous groups without overlap\n",
    "additional = [0, 2, 6, 8, 10, 12]\n",
    "age_df = age_df.drop(additional)\n",
    "\n",
    "# Add score and threshold age to df\n",
    "tot = sum(age_df[\"COVID-19 Deaths\"].tolist())\n",
    "age_df['Score'] = (age_df['COVID-19 Deaths']/tot) * 100\n",
    "brackets = [0, 1, 5, 15, 25, 35, 45, 55, 65, 75, 85]\n",
    "age_df['Threshold'] = brackets\n",
    "\n",
    "# Min max scaler for score\n",
    "age_df['Score'] = scale_values(age_df['Score'], scaler=MinMaxScaler)"
   ]
  },
  {
   "cell_type": "code",
   "execution_count": 3,
   "id": "bacterial-dressing",
   "metadata": {},
   "outputs": [],
   "source": [
    "# Read percent of population excel spreadsheet\n",
    "pop_age_df = pd.read_excel('statistic_id241488_population-of-the-united-states-by-sex-and-age-2019.xlsx', sheet_name = 'Data')\n",
    "pop_age_df = pop_age_df.drop(columns = ['Unnamed: 0'])\n",
    "pop_age_df = pop_age_df.drop([0,1,2,3])\n",
    "pop_age_df.columns = ['Age range', 'Male', 'Female']\n",
    "\n",
    "pop_age_df['Total'] = pop_age_df['Male'] + pop_age_df['Female']\n",
    "\n",
    "pop_tot = sum(pop_age_df['Total'].tolist())\n",
    "\n",
    "pop_age_lst = pop_age_df['Total'].tolist()\n",
    "\n",
    "# Creating list of portions of population that each age group falls under\n",
    "pop_est = [(pop_age_lst[0]/5)/pop_tot, # under 1\n",
    "           (pop_age_lst[0]*4)/5/pop_tot, # 1-4\n",
    "          (pop_age_lst[1]+pop_age_lst[2])/pop_tot, # 5-14\n",
    "          (pop_age_lst[3]+pop_age_lst[4])/pop_tot, #15-24\n",
    "          (pop_age_lst[5]+pop_age_lst[6])/pop_tot, #25-34\n",
    "          (pop_age_lst[7]+pop_age_lst[8])/pop_tot, #35-44\n",
    "          (pop_age_lst[9]+pop_age_lst[10])/pop_tot, #45-54\n",
    "          (pop_age_lst[11]+pop_age_lst[12])/pop_tot, #55-64\n",
    "          (pop_age_lst[13]+pop_age_lst[14])/pop_tot, #65-74\n",
    "          (pop_age_lst[15]+pop_age_lst[16])/pop_tot, #75-84\n",
    "          pop_age_lst[17]/pop_tot] #85 and up\n",
    "\n",
    "# Add estimate column\n",
    "age_df['estimate'] = pop_est"
   ]
  },
  {
   "cell_type": "code",
   "execution_count": 4,
   "id": "latter-charger",
   "metadata": {},
   "outputs": [],
   "source": [
    "# Age score dictionary\n",
    "score_age_dict = {}\n",
    "\n",
    "for row in age_df.iloc:\n",
    "    score_age_dict[row['Age Group']] = row['Score']"
   ]
  },
  {
   "cell_type": "markdown",
   "id": "partial-nigeria",
   "metadata": {},
   "source": [
    "#### Gender"
   ]
  },
  {
   "cell_type": "code",
   "execution_count": 5,
   "id": "sharp-audio",
   "metadata": {},
   "outputs": [
    {
     "data": {
      "text/html": [
       "<div>\n",
       "<style scoped>\n",
       "    .dataframe tbody tr th:only-of-type {\n",
       "        vertical-align: middle;\n",
       "    }\n",
       "\n",
       "    .dataframe tbody tr th {\n",
       "        vertical-align: top;\n",
       "    }\n",
       "\n",
       "    .dataframe thead th {\n",
       "        text-align: right;\n",
       "    }\n",
       "</style>\n",
       "<table border=\"1\" class=\"dataframe\">\n",
       "  <thead>\n",
       "    <tr style=\"text-align: right;\">\n",
       "      <th></th>\n",
       "      <th>Group</th>\n",
       "      <th>State</th>\n",
       "      <th>Age Group</th>\n",
       "      <th>COVID-19 Deaths</th>\n",
       "      <th>% Deaths</th>\n",
       "    </tr>\n",
       "    <tr>\n",
       "      <th>Sex</th>\n",
       "      <th></th>\n",
       "      <th></th>\n",
       "      <th></th>\n",
       "      <th></th>\n",
       "      <th></th>\n",
       "    </tr>\n",
       "  </thead>\n",
       "  <tbody>\n",
       "    <tr>\n",
       "      <th>Male</th>\n",
       "      <td>By Total</td>\n",
       "      <td>United States</td>\n",
       "      <td>All Ages</td>\n",
       "      <td>261101.0</td>\n",
       "      <td>54.519619</td>\n",
       "    </tr>\n",
       "    <tr>\n",
       "      <th>Female</th>\n",
       "      <td>By Total</td>\n",
       "      <td>United States</td>\n",
       "      <td>All Ages</td>\n",
       "      <td>217811.0</td>\n",
       "      <td>45.480381</td>\n",
       "    </tr>\n",
       "  </tbody>\n",
       "</table>\n",
       "</div>"
      ],
      "text/plain": [
       "           Group          State Age Group  COVID-19 Deaths   % Deaths\n",
       "Sex                                                                  \n",
       "Male    By Total  United States  All Ages         261101.0  54.519619\n",
       "Female  By Total  United States  All Ages         217811.0  45.480381"
      ]
     },
     "execution_count": 5,
     "metadata": {},
     "output_type": "execute_result"
    }
   ],
   "source": [
    "# Import the csv file as a dataframe\n",
    "gender_df = pd.read_csv('Provisional_COVID-19_Death_Counts_by_Sex__Age__and_State.csv')\n",
    "\n",
    "# Include only the Group, State, Sex, Age Group, and COVID-19 Deaths columns\n",
    "gender_df = gender_df[['Group','State', 'Sex', 'Age Group', 'COVID-19 Deaths']]\n",
    "\n",
    "# Include Male and Female (not All Sexes)\n",
    "gender_df = gender_df[(gender_df['Sex'] == 'Male') | (gender_df['Sex'] == 'Female')]\n",
    "\n",
    "# Include people from all age groups, the entire country, over all time\n",
    "gender_df = gender_df[(gender_df['Age Group'] == 'All Ages') & \n",
    "                      (gender_df['State'] == 'United States') & \n",
    "                      (gender_df['Group'] == 'By Total')]\n",
    "\n",
    "# Add % deaths column\n",
    "gender_df['% Deaths'] = (gender_df['COVID-19 Deaths'] / gender_df['COVID-19 Deaths'].sum()) * 100\n",
    "\n",
    "gender_dict = {}\n",
    "for row in gender_df.iloc:\n",
    "    gender_dict[row['Sex']] = row['% Deaths']\n",
    "\n",
    "# Change index\n",
    "gender_df = gender_df.set_index('Sex')"
   ]
  },
  {
   "cell_type": "markdown",
   "id": "historic-authority",
   "metadata": {},
   "source": [
    "#### Comorbidities"
   ]
  },
  {
   "cell_type": "code",
   "execution_count": 6,
   "id": "exotic-footwear",
   "metadata": {},
   "outputs": [],
   "source": [
    "# Read comorbidities data set into pandas dataframe\n",
    "comor_df = pd.read_csv('Conditions_contributing_to_deaths_involving_coronavirus_disease_2019__COVID-19___by_age_group_and_state__United_States..csv')\n",
    "    \n",
    "comor_df = comor_df[['Group','Condition','COVID-19 Deaths', 'Age Group', 'State']]\n",
    "comor_df = comor_df[comor_df['Group'] == 'By Total']\n",
    "comor_df = comor_df.dropna()\n",
    "condition_lst = comor_df['Condition'].unique()\n",
    "sum_lst = []\n",
    "\n",
    "for condition in condition_lst:\n",
    "    \n",
    "    subset = comor_df[(comor_df['Condition'] == condition) & (comor_df['Age Group'] == 'All Ages') & (comor_df['State'] == 'United States')]\n",
    "    covid_death = int(subset['COVID-19 Deaths'].iloc[0].replace(\",\", \"\"))\n",
    "    sum_lst.append(covid_death)\n",
    "\n",
    "# Get unique comorbidities\n",
    "conditions = comor_df['Condition'].unique() \n",
    "conditions = conditions.tolist()\n",
    "\n",
    "# value representing everyone who contracted COVID-19\n",
    "conditions.remove('COVID-19')\n",
    "\n",
    "all_covid = sum_lst[-1] # number of all COVID-19 deaths according to DataFrame\n",
    "condition_values = [(round(i / all_covid, 2)) * 100 for i in sum_lst]\n",
    "\n",
    "# dictionary with comorbidites and values\n",
    "condition_dict = dict(zip(conditions, condition_values))\n"
   ]
  },
  {
   "cell_type": "markdown",
   "id": "bored-copyright",
   "metadata": {},
   "source": [
    "#### State"
   ]
  },
  {
   "cell_type": "code",
   "execution_count": 7,
   "id": "fifth-alexandria",
   "metadata": {},
   "outputs": [],
   "source": [
    "# Creates a list of names for the population dataset then reads data\n",
    "columns = ['state', 'drop1', 'Population', 'drop2', 'drop3',\n",
    "           'drop4', 'drop5', 'drop6', 'drop7', 'drop8']\n",
    "pop_df = pd.read_csv('state_pops.csv', names=columns)\n",
    "\n",
    "# Drops the useless columns from the dataset\n",
    "pop_df.drop(axis=0, columns=['drop1', 'drop2', 'drop3'\n",
    "                               , 'drop4', 'drop5', 'drop6',\n",
    "                               'drop7', 'drop8'], inplace=True)\n",
    "# Drops any columns with NA values\n",
    "pop_df.dropna(inplace=True)\n",
    "pop_df.reset_index(drop=True, inplace=True)\n",
    "\n",
    "# Removes the periods from the state names\n",
    "pop_df = pop_df.iloc[5:]\n",
    "pop_df['state'] = list(map(lambda x: x[1:] if x[0]=='.' else x,\n",
    "                             pop_df['state']))\n",
    "\n",
    "# Removes the commas from the populations\n",
    "pop_df['Population'] = list(map(lambda x: int(x.replace(',', '')),\n",
    "                             pop_df['Population']))\n",
    "\n",
    "# Fixes the NY score so that it doesnt count NYC\n",
    "pop_df['Population'] = [value if pop_df['state'].iloc[index]\n",
    "                          != 'New York' else value - NYC_POP for index,value\n",
    "                          in enumerate(pop_df['Population'])]\n",
    "\n",
    "# Adds NYC to the dataset and then returns it as CSV  \n",
    "nyc = ['New York City',  NYC_POP]\n",
    "pop_df.loc[len(pop_df.index)] = nyc\n",
    "pop_df.reset_index(inplace=True, drop=True)\n",
    "#pop_df.to_csv('Population_data.csv')\n",
    "\n",
    "# Uses the state dict to reassign state names to abbreviations\n",
    "pop_df['state'] = list(map(lambda x:  US_STATES[x], pop_df['state']))"
   ]
  },
  {
   "cell_type": "code",
   "execution_count": 8,
   "id": "interim-pastor",
   "metadata": {},
   "outputs": [],
   "source": [
    "# Reads in the State dataset and does basic clean up and sorting\n",
    "state_df = pd.read_csv('state_info.csv')\n",
    "state_df['submission_date'] = pd.to_datetime(state_df['submission_date'])\n",
    "state_df = state_df.sort_values(by=['state', 'submission_date'],\n",
    "                      ignore_index=True)\n",
    "state_df.fillna(value=0, inplace=True)\n",
    "state_df.rename(columns={'consent_deaths':'consent_death'},\n",
    "                inplace=True)\n",
    "\n",
    "cases = []\n",
    "deaths = []\n",
    "\n",
    "# Fix the consent cases and deaths\n",
    "for i in range(len(state_df)):\n",
    "    row = state_df.iloc[i]\n",
    "\n",
    "    cases.append(fix_consent('cases', row))\n",
    "    deaths.append(fix_consent('death', row))\n",
    "\n",
    "state_df['cases'] = cases\n",
    "state_df['deaths'] = deaths\n",
    "\n",
    "# Finds rows that are not found in the Population DF\n",
    "drop_lst = []\n",
    "valid_states = pop_df['state'].unique()\n",
    "drop_lst = [index for index,state in enumerate(state_df['state'])\n",
    "            if state not in valid_states]\n",
    "\n",
    "# Drops the rows that were found above\n",
    "state_df.drop(axis=0, inplace=True, labels=drop_lst)\n",
    "state_df.reset_index(inplace=True)\n",
    "\n",
    "# Gets the cases and Deaths for each place\n",
    "state_scores = {}\n",
    "for value in valid_states:\n",
    "\n",
    "    state_subset = state_df.loc[state_df['state'] == value]\n",
    "    pop = pop_df.loc[pop_df['state'] == value]['Population'].iloc[0]\n",
    "\n",
    "    death_score = count_stats(state_subset, 'tot_death')\n",
    "    case_score = count_stats(state_subset, 'tot_cases')\n",
    "\n",
    "    final_value = death_score + (case_score * .01)\n",
    "\n",
    "    # Finds the percent of population affected in each state\n",
    "    percent_death = final_value/pop\n",
    "    state_scores[value] = percent_death\n",
    "\n",
    "# Sorts the keys based on the score found above\n",
    "sorted_keys = sorted(state_scores, key=state_scores.get)\n",
    "states = [state for state in sorted_keys]\n",
    "values = [state_scores[key] for key in sorted_keys]\n",
    "\n",
    "# Scales the values into a new range and saves them in a list\n",
    "values = scale_values(values)\n",
    "final_state_scores = list(zip(states, values))\n",
    "final_state_scores = {state:score for state,score in final_state_scores}"
   ]
  },
  {
   "cell_type": "markdown",
   "id": "underlying-belarus",
   "metadata": {},
   "source": [
    "## Questionnaire"
   ]
  },
  {
   "cell_type": "code",
   "execution_count": 9,
   "id": "heated-christianity",
   "metadata": {},
   "outputs": [
    {
     "name": "stdout",
     "output_type": "stream",
     "text": [
      "What is your age in years? 20\n",
      "Influenza and pneumonia\n",
      "Chronic lower respiratory diseases\n",
      "Adult respiratory distress syndrome\n",
      "Respiratory failure\n",
      "Respiratory arrest\n",
      "Other diseases of the respiratory system\n",
      "Hypertensive diseases\n",
      "Ischemic heart disease\n",
      "Cardiac arrest\n",
      "Cardiac arrhythmia\n",
      "Heart failure\n",
      "Cerebrovascular diseases\n",
      "Other diseases of the circulatory system\n",
      "Sepsis\n",
      "Malignant neoplasms\n",
      "Diabetes\n",
      "Obesity\n",
      "Alzheimer disease\n",
      "Vascular and unspecified dementia\n",
      "Renal failure\n",
      "Intentional and unintentional injury, poisoning, and other adverse events\n",
      "All other conditions and causes (residual)\n",
      "Do you have a condition on this list? (y or n)\n",
      "n\n",
      "\n",
      "['Health Care Worker', 'First Responder', 'Corrections Workers', 'Food and Agriculture', 'Grocery Store Workers', 'Education', 'U.S. Postal Service Workers', 'Public Transit Workers', 'Manufacturing', 'Transportation and Logistics', 'Food Service', 'Energy', 'Water and Wastewater', 'Shelter and Housing', 'IT and Communication', 'News Media', 'Public Safety', 'Public Health Workers', 'Finance', 'Legal', 'Other']\n",
      "Indicate your occupation based on the list Other\n",
      "Do you work in-person? [y/n] \n",
      "n\n",
      "Are you regularly exposed to individuals who are at risk for COVID-19? [y/n] \n",
      "y\n",
      "\n",
      "AK\n",
      "AL\n",
      "AR\n",
      "AZ\n",
      "CA\n",
      "CO\n",
      "CT\n",
      "DC\n",
      "DE\n",
      "FL\n",
      "GA\n",
      "HI\n",
      "IA\n",
      "ID\n",
      "IL\n",
      "IN\n",
      "KS\n",
      "KY\n",
      "LA\n",
      "MA\n",
      "MD\n",
      "ME\n",
      "MI\n",
      "MN\n",
      "MO\n",
      "MS\n",
      "MT\n",
      "NC\n",
      "ND\n",
      "NE\n",
      "NH\n",
      "NJ\n",
      "NM\n",
      "NV\n",
      "NY\n",
      "NYC\n",
      "OH\n",
      "OK\n",
      "OR\n",
      "PA\n",
      "PR\n",
      "RI\n",
      "SC\n",
      "SD\n",
      "TN\n",
      "TX\n",
      "UT\n",
      "VA\n",
      "VT\n",
      "WI\n",
      "WV\n",
      "WY\n",
      "Enter the abbreviation that corresponds to your home state using the list above.\n",
      "TX\n",
      "Please identify your biological sex [m/f]m\n",
      "\n"
     ]
    }
   ],
   "source": [
    "# List of scores of all aspects\n",
    "all_scores = []\n",
    "\n",
    "# Age\n",
    "all_scores.append(age_score(age_df))\n",
    "\n",
    "# Comorbidities\n",
    "all_scores.append(comorbidities(conditions, condition_dict))\n",
    "print()\n",
    "\n",
    "# Occupation\n",
    "all_scores.append(occupation_score())\n",
    "print()\n",
    "\n",
    "# State\n",
    "all_scores.append(menu(final_state_scores))\n",
    "\n",
    "# Gender\n",
    "all_scores.append(gender_score())\n",
    "print()"
   ]
  },
  {
   "cell_type": "code",
   "execution_count": 10,
   "id": "administrative-rocket",
   "metadata": {},
   "outputs": [
    {
     "name": "stdout",
     "output_type": "stream",
     "text": [
      "23.60356048336123\n"
     ]
    }
   ],
   "source": [
    "# Calculate final score\n",
    "score_final = final_score(all_scores, WEIGHTS)"
   ]
  },
  {
   "cell_type": "markdown",
   "id": "intensive-pharmaceutical",
   "metadata": {},
   "source": [
    "## Visualizations"
   ]
  },
  {
   "cell_type": "markdown",
   "id": "decent-madagascar",
   "metadata": {},
   "source": [
    "#### Age"
   ]
  },
  {
   "cell_type": "code",
   "execution_count": 11,
   "id": "located-comparison",
   "metadata": {},
   "outputs": [
    {
     "data": {
      "image/png": "[encoded data removed]",
      "text/plain": [
       "<Figure size 432x288 with 1 Axes>"
      ]
     },
     "metadata": {
      "needs_background": "light"
     },
     "output_type": "display_data"
    }
   ],
   "source": [
    "# Continuous line graph of deaths by age group\n",
    "x = age_df[\"Age Group\"]\n",
    "y = age_df[\"COVID-19 Deaths\"]\n",
    "\n",
    "plt.plot(x,y, marker='o', color='coral')\n",
    "plt.title(\"COVID-19 Deaths by Age Group\")\n",
    "plt.xlabel(\"Age Group\")\n",
    "plt.xticks(rotation = 270)\n",
    "plt.ylabel(\"Deaths\")\n",
    "plt.grid()"
   ]
  },
  {
   "cell_type": "markdown",
   "id": "reserved-department",
   "metadata": {},
   "source": [
    "#### Gender"
   ]
  },
  {
   "cell_type": "code",
   "execution_count": 12,
   "id": "dress-jackson",
   "metadata": {},
   "outputs": [
    {
     "data": {
      "image/png": "[encoded data removed]",
      "text/plain": [
       "<Figure size 432x288 with 1 Axes>"
      ]
     },
     "metadata": {
      "needs_background": "light"
     },
     "output_type": "display_data"
    }
   ],
   "source": [
    "# Plot gender bargraph\n",
    "plt.bar(['Male', 'Female'], gender_df['% Deaths'] , color = 'coral')\n",
    "plt.title('% of COVID-19 Related Deaths per Gender')\n",
    "plt.ylabel('% of COVID-19 Deaths')\n",
    "plt.show()"
   ]
  },
  {
   "cell_type": "markdown",
   "id": "expected-payment",
   "metadata": {},
   "source": [
    "#### Comorbidities"
   ]
  },
  {
   "cell_type": "code",
   "execution_count": 13,
   "id": "under-annotation",
   "metadata": {},
   "outputs": [
    {
     "data": {
      "text/plain": [
       "Text(0, 0.5, '')"
      ]
     },
     "execution_count": 13,
     "metadata": {},
     "output_type": "execute_result"
    },
    {
     "data": {
      "image/png": "[encoded data removed]",
      "text/plain": [
       "<Figure size 432x288 with 1 Axes>"
      ]
     },
     "metadata": {},
     "output_type": "display_data"
    }
   ],
   "source": [
    "# Getting top 5 contributing comorbidities\n",
    "sum_lst.remove(sum_lst[-1])\n",
    "data = {'Condition': conditions, 'Number of Deaths': sum_lst}\n",
    "df2 = pd.DataFrame(data)\n",
    "top_5 = df2.nlargest(5, 'Number of Deaths')\n",
    "top_5.set_index('Condition', inplace=True)\n",
    "\n",
    "# plotting top 5 comorbidities that contribute to death\n",
    "plot = top_5.plot.pie(y='Number of Deaths', autopct='%1.2f%%', legend=False, \n",
    "                      title='Top 5 Comorbidities Contriuting to COVID-19 Death')\n",
    "pylab.ylabel('')"
   ]
  },
  {
   "cell_type": "markdown",
   "id": "pointed-submission",
   "metadata": {},
   "source": [
    "#### State"
   ]
  },
  {
   "cell_type": "code",
   "execution_count": 14,
   "id": "experienced-remove",
   "metadata": {},
   "outputs": [
    {
     "data": {
      "image/png": "[encoded data removed]",
      "text/plain": [
       "<Figure size 432x288 with 1 Axes>"
      ]
     },
     "metadata": {
      "needs_background": "light"
     },
     "output_type": "display_data"
    }
   ],
   "source": [
    "# Creates a bar chart of state/city data\n",
    "xlabel = 'States'\n",
    "ylabel = 'Risk Score'\n",
    "title = 'Covid Risk of Top 10 States'\n",
    "\n",
    "draw_bar(title, ylabel, xlabel, final_state_scores)"
   ]
  },
  {
   "cell_type": "markdown",
   "id": "played-weekend",
   "metadata": {},
   "source": [
    "## Randomization"
   ]
  },
  {
   "cell_type": "code",
   "execution_count": 15,
   "id": "close-german",
   "metadata": {},
   "outputs": [],
   "source": [
    "# Dictionary for age range probability\n",
    "age_dict = {}\n",
    "for row in age_df.iloc:\n",
    "    age_dict[row['Age Group']] = row['estimate']\n",
    "\n",
    "# Dictionary for states probability\n",
    "total_pop = sum(pop_df['Population'])\n",
    "pop_percents = {state:\n",
    "                pop_percent(total_pop, pop_df.iloc[index])\n",
    "                for index,state in enumerate(pop_df['state'])}\n"
   ]
  },
  {
   "cell_type": "code",
   "execution_count": 16,
   "id": "incorporate-grenada",
   "metadata": {},
   "outputs": [],
   "source": [
    "# Generates a shuffled list of states based on actual populations\n",
    "state_lst = generate_list(pop_percents, COUNT)\n",
    "\n",
    "# Generates a shuffled list of genders\n",
    "gender_lst = generate_list({'Male': 0.5, 'Female': 0.5}, COUNT)\n",
    "\n",
    "# Generates a shuffled list of age ranges\n",
    "age_lst = generate_list(age_dict, COUNT)\n",
    "\n",
    "# Generates a shuffled list of occupations\n",
    "occupation_lst = [random.choice(list(OCCUPATIONS.keys())) for num in range(COUNT)]\n",
    "\n",
    "# Generates a shuffled list of comorbidities\n",
    "comor_lst = [random.choice(list(condition_dict.keys())) for num in range(COUNT)]"
   ]
  },
  {
   "cell_type": "code",
   "execution_count": 17,
   "id": "equal-survival",
   "metadata": {},
   "outputs": [
    {
     "data": {
      "text/html": [
       "<div>\n",
       "<style scoped>\n",
       "    .dataframe tbody tr th:only-of-type {\n",
       "        vertical-align: middle;\n",
       "    }\n",
       "\n",
       "    .dataframe tbody tr th {\n",
       "        vertical-align: top;\n",
       "    }\n",
       "\n",
       "    .dataframe thead th {\n",
       "        text-align: right;\n",
       "    }\n",
       "</style>\n",
       "<table border=\"1\" class=\"dataframe\">\n",
       "  <thead>\n",
       "    <tr style=\"text-align: right;\">\n",
       "      <th></th>\n",
       "      <th>Age</th>\n",
       "      <th>Comorbidities</th>\n",
       "      <th>Occupation</th>\n",
       "      <th>State</th>\n",
       "      <th>Gender</th>\n",
       "    </tr>\n",
       "  </thead>\n",
       "  <tbody>\n",
       "    <tr>\n",
       "      <th>0</th>\n",
       "      <td>45-54 years</td>\n",
       "      <td>Sepsis</td>\n",
       "      <td>Grocery Store Workers</td>\n",
       "      <td>MO</td>\n",
       "      <td>Female</td>\n",
       "    </tr>\n",
       "    <tr>\n",
       "      <th>1</th>\n",
       "      <td>25-34 years</td>\n",
       "      <td>Vascular and unspecified dementia</td>\n",
       "      <td>Food and Agriculture</td>\n",
       "      <td>OH</td>\n",
       "      <td>Male</td>\n",
       "    </tr>\n",
       "    <tr>\n",
       "      <th>2</th>\n",
       "      <td>65-74 years</td>\n",
       "      <td>Adult respiratory distress syndrome</td>\n",
       "      <td>Grocery Store Workers</td>\n",
       "      <td>NY</td>\n",
       "      <td>Female</td>\n",
       "    </tr>\n",
       "    <tr>\n",
       "      <th>3</th>\n",
       "      <td>5-14 years</td>\n",
       "      <td>Other diseases of the circulatory system</td>\n",
       "      <td>Corrections Workers</td>\n",
       "      <td>TX</td>\n",
       "      <td>Male</td>\n",
       "    </tr>\n",
       "    <tr>\n",
       "      <th>4</th>\n",
       "      <td>65-74 years</td>\n",
       "      <td>Alzheimer disease</td>\n",
       "      <td>Food and Agriculture</td>\n",
       "      <td>NY</td>\n",
       "      <td>Female</td>\n",
       "    </tr>\n",
       "    <tr>\n",
       "      <th>5</th>\n",
       "      <td>45-54 years</td>\n",
       "      <td>Vascular and unspecified dementia</td>\n",
       "      <td>Public Transit Workers</td>\n",
       "      <td>VA</td>\n",
       "      <td>Male</td>\n",
       "    </tr>\n",
       "    <tr>\n",
       "      <th>6</th>\n",
       "      <td>5-14 years</td>\n",
       "      <td>Hypertensive diseases</td>\n",
       "      <td>Public Transit Workers</td>\n",
       "      <td>CO</td>\n",
       "      <td>Female</td>\n",
       "    </tr>\n",
       "    <tr>\n",
       "      <th>7</th>\n",
       "      <td>5-14 years</td>\n",
       "      <td>All other conditions and causes (residual)</td>\n",
       "      <td>IT and Communication</td>\n",
       "      <td>PA</td>\n",
       "      <td>Female</td>\n",
       "    </tr>\n",
       "    <tr>\n",
       "      <th>8</th>\n",
       "      <td>75-84 years</td>\n",
       "      <td>Respiratory arrest</td>\n",
       "      <td>Finance</td>\n",
       "      <td>MS</td>\n",
       "      <td>Male</td>\n",
       "    </tr>\n",
       "    <tr>\n",
       "      <th>9</th>\n",
       "      <td>45-54 years</td>\n",
       "      <td>Sepsis</td>\n",
       "      <td>Water and Wastewater</td>\n",
       "      <td>CA</td>\n",
       "      <td>Male</td>\n",
       "    </tr>\n",
       "  </tbody>\n",
       "</table>\n",
       "</div>"
      ],
      "text/plain": [
       "           Age                               Comorbidities  \\\n",
       "0  45-54 years                                      Sepsis   \n",
       "1  25-34 years           Vascular and unspecified dementia   \n",
       "2  65-74 years         Adult respiratory distress syndrome   \n",
       "3   5-14 years    Other diseases of the circulatory system   \n",
       "4  65-74 years                           Alzheimer disease   \n",
       "5  45-54 years           Vascular and unspecified dementia   \n",
       "6   5-14 years                       Hypertensive diseases   \n",
       "7   5-14 years  All other conditions and causes (residual)   \n",
       "8  75-84 years                          Respiratory arrest   \n",
       "9  45-54 years                                      Sepsis   \n",
       "\n",
       "               Occupation State  Gender  \n",
       "0   Grocery Store Workers    MO  Female  \n",
       "1    Food and Agriculture    OH    Male  \n",
       "2   Grocery Store Workers    NY  Female  \n",
       "3     Corrections Workers    TX    Male  \n",
       "4    Food and Agriculture    NY  Female  \n",
       "5  Public Transit Workers    VA    Male  \n",
       "6  Public Transit Workers    CO  Female  \n",
       "7    IT and Communication    PA  Female  \n",
       "8                 Finance    MS    Male  \n",
       "9    Water and Wastewater    CA    Male  "
      ]
     },
     "execution_count": 17,
     "metadata": {},
     "output_type": "execute_result"
    }
   ],
   "source": [
    "# Combine randomized sample lists into a dataframe\n",
    "sample_pop_df = pd.DataFrame({\n",
    "    'Age': age_lst,\n",
    "    'Comorbidities': comor_lst,\n",
    "    'Occupation': occupation_lst,\n",
    "    'State': state_lst,\n",
    "    'Gender': gender_lst})"
   ]
  },
  {
   "cell_type": "code",
   "execution_count": 18,
   "id": "danish-cycle",
   "metadata": {},
   "outputs": [],
   "source": [
    "# All final scores for each random sample\n",
    "final_scores_lst = []\n",
    "\n",
    "# Calculate final score for each row in dataframe and add to final scores list\n",
    "for row in sample_pop_df.iloc:\n",
    "    sample_scores = []\n",
    "    sample_scores.append(score_age_dict[row['Age']])\n",
    "    sample_scores.append(condition_dict[row['Comorbidities']])\n",
    "    sample_scores.append(OCCUPATIONS[row['Occupation']])\n",
    "    sample_scores.append(final_state_scores[row['State']])\n",
    "    sample_scores.append(gender_dict[row['Gender']])\n",
    "    final_scores_lst.append(final_score(sample_scores, WEIGHTS))"
   ]
  },
  {
   "cell_type": "code",
   "execution_count": 19,
   "id": "entitled-sympathy",
   "metadata": {},
   "outputs": [
    {
     "data": {
      "image/png": "[encoded data removed]",
      "text/plain": [
       "<Figure size 576x576 with 1 Axes>"
      ]
     },
     "metadata": {
      "needs_background": "light"
     },
     "output_type": "display_data"
    },
    {
     "name": "stdout",
     "output_type": "stream",
     "text": [
      "The user inputed score is: 23.6\n"
     ]
    }
   ],
   "source": [
    "# Graph the scores in order to see where the user lines up \n",
    "\n",
    "# Add user's value\n",
    "final_scores_lst.append(score_final)\n",
    "final_scores_lst.sort(reverse = True)\n",
    "\n",
    "# Order in vaccine queue (Lower value in queue = sooner to get vaccinated)\n",
    "y = [i for i in range(COUNT+1)]\n",
    "\n",
    "# color list to mark the user's point\n",
    "color_lst = ['blue' if num == score_final else 'coral' for num in final_scores_lst]\n",
    "\n",
    "\n",
    "# Graph\n",
    "plt.figure(figsize = (8,8))\n",
    "plt.scatter(final_scores_lst, y,c = 'coral', marker='.')\n",
    "plt.scatter(score_final, color_lst.index('blue'), c = 'royalblue', marker='o',s = 60, label='User Score')\n",
    "plt.title(\"Vaccine Score Distribution with Sample US Population\")\n",
    "plt.xlabel(\"Vaccine Score (from Questionnaire)\")\n",
    "plt.ylabel(\"Place in vaccine queue\")\n",
    "plt.legend()\n",
    "plt.grid()\n",
    "plt.show()\n",
    "\n",
    "print('The user inputed score is:', round(score_final, 2))"
   ]
  }
 ],
 "metadata": {
  "kernelspec": {
   "display_name": "Python 3",
   "language": "python",
   "name": "python3"
  },
  "language_info": {
   "codemirror_mode": {
    "name": "ipython",
    "version": 3
   },
   "file_extension": ".py",
   "mimetype": "text/x-python",
   "name": "python",
   "nbconvert_exporter": "python",
   "pygments_lexer": "ipython3",
   "version": "3.8.5"
  }
 },
 "nbformat": 4,
 "nbformat_minor": 5
}
