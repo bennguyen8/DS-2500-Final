{
 "cells": [
  {
   "cell_type": "code",
   "execution_count": 1,
   "metadata": {},
   "outputs": [],
   "source": [
    "import pandas as pd\n",
    "import matplotlib.pyplot as plt"
   ]
  },
  {
   "cell_type": "code",
   "execution_count": 2,
   "metadata": {},
   "outputs": [
    {
     "data": {
      "text/html": [
       "<div>\n",
       "<style scoped>\n",
       "    .dataframe tbody tr th:only-of-type {\n",
       "        vertical-align: middle;\n",
       "    }\n",
       "\n",
       "    .dataframe tbody tr th {\n",
       "        vertical-align: top;\n",
       "    }\n",
       "\n",
       "    .dataframe thead th {\n",
       "        text-align: right;\n",
       "    }\n",
       "</style>\n",
       "<table border=\"1\" class=\"dataframe\">\n",
       "  <thead>\n",
       "    <tr style=\"text-align: right;\">\n",
       "      <th></th>\n",
       "      <th>Data As Of</th>\n",
       "      <th>Start Date</th>\n",
       "      <th>End Date</th>\n",
       "      <th>Group</th>\n",
       "      <th>Year</th>\n",
       "      <th>Month</th>\n",
       "      <th>State</th>\n",
       "      <th>Condition Group</th>\n",
       "      <th>Condition</th>\n",
       "      <th>ICD10_codes</th>\n",
       "      <th>Age Group</th>\n",
       "      <th>COVID-19 Deaths</th>\n",
       "      <th>Number of Mentions</th>\n",
       "      <th>Flag</th>\n",
       "    </tr>\n",
       "  </thead>\n",
       "  <tbody>\n",
       "    <tr>\n",
       "      <td>0</td>\n",
       "      <td>2/21/2021</td>\n",
       "      <td>1/1/2020</td>\n",
       "      <td>2/20/2021</td>\n",
       "      <td>By Total</td>\n",
       "      <td>NaN</td>\n",
       "      <td>NaN</td>\n",
       "      <td>United States</td>\n",
       "      <td>Respiratory diseases</td>\n",
       "      <td>Influenza and pneumonia</td>\n",
       "      <td>J09-J18</td>\n",
       "      <td>0-24</td>\n",
       "      <td>284</td>\n",
       "      <td>292</td>\n",
       "      <td>NaN</td>\n",
       "    </tr>\n",
       "    <tr>\n",
       "      <td>1</td>\n",
       "      <td>2/21/2021</td>\n",
       "      <td>1/1/2020</td>\n",
       "      <td>2/20/2021</td>\n",
       "      <td>By Total</td>\n",
       "      <td>NaN</td>\n",
       "      <td>NaN</td>\n",
       "      <td>United States</td>\n",
       "      <td>Respiratory diseases</td>\n",
       "      <td>Influenza and pneumonia</td>\n",
       "      <td>J09-J18</td>\n",
       "      <td>25-34</td>\n",
       "      <td>1,330</td>\n",
       "      <td>1,352</td>\n",
       "      <td>NaN</td>\n",
       "    </tr>\n",
       "    <tr>\n",
       "      <td>2</td>\n",
       "      <td>2/21/2021</td>\n",
       "      <td>1/1/2020</td>\n",
       "      <td>2/20/2021</td>\n",
       "      <td>By Total</td>\n",
       "      <td>NaN</td>\n",
       "      <td>NaN</td>\n",
       "      <td>United States</td>\n",
       "      <td>Respiratory diseases</td>\n",
       "      <td>Influenza and pneumonia</td>\n",
       "      <td>J09-J18</td>\n",
       "      <td>35-44</td>\n",
       "      <td>3,620</td>\n",
       "      <td>3,698</td>\n",
       "      <td>NaN</td>\n",
       "    </tr>\n",
       "    <tr>\n",
       "      <td>3</td>\n",
       "      <td>2/21/2021</td>\n",
       "      <td>1/1/2020</td>\n",
       "      <td>2/20/2021</td>\n",
       "      <td>By Total</td>\n",
       "      <td>NaN</td>\n",
       "      <td>NaN</td>\n",
       "      <td>United States</td>\n",
       "      <td>Respiratory diseases</td>\n",
       "      <td>Influenza and pneumonia</td>\n",
       "      <td>J09-J18</td>\n",
       "      <td>45-54</td>\n",
       "      <td>10,765</td>\n",
       "      <td>11,042</td>\n",
       "      <td>NaN</td>\n",
       "    </tr>\n",
       "    <tr>\n",
       "      <td>4</td>\n",
       "      <td>2/21/2021</td>\n",
       "      <td>1/1/2020</td>\n",
       "      <td>2/20/2021</td>\n",
       "      <td>By Total</td>\n",
       "      <td>NaN</td>\n",
       "      <td>NaN</td>\n",
       "      <td>United States</td>\n",
       "      <td>Respiratory diseases</td>\n",
       "      <td>Influenza and pneumonia</td>\n",
       "      <td>J09-J18</td>\n",
       "      <td>55-64</td>\n",
       "      <td>27,513</td>\n",
       "      <td>28,161</td>\n",
       "      <td>NaN</td>\n",
       "    </tr>\n",
       "    <tr>\n",
       "      <td>...</td>\n",
       "      <td>...</td>\n",
       "      <td>...</td>\n",
       "      <td>...</td>\n",
       "      <td>...</td>\n",
       "      <td>...</td>\n",
       "      <td>...</td>\n",
       "      <td>...</td>\n",
       "      <td>...</td>\n",
       "      <td>...</td>\n",
       "      <td>...</td>\n",
       "      <td>...</td>\n",
       "      <td>...</td>\n",
       "      <td>...</td>\n",
       "      <td>...</td>\n",
       "    </tr>\n",
       "    <tr>\n",
       "      <td>211135</td>\n",
       "      <td>2/21/2021</td>\n",
       "      <td>2/1/2021</td>\n",
       "      <td>2/20/2021</td>\n",
       "      <td>By Month</td>\n",
       "      <td>2,021</td>\n",
       "      <td>2.0</td>\n",
       "      <td>Puerto Rico</td>\n",
       "      <td>COVID-19</td>\n",
       "      <td>COVID-19</td>\n",
       "      <td>U071</td>\n",
       "      <td>65-74</td>\n",
       "      <td>10</td>\n",
       "      <td>10</td>\n",
       "      <td>NaN</td>\n",
       "    </tr>\n",
       "    <tr>\n",
       "      <td>211136</td>\n",
       "      <td>2/21/2021</td>\n",
       "      <td>2/1/2021</td>\n",
       "      <td>2/20/2021</td>\n",
       "      <td>By Month</td>\n",
       "      <td>2,021</td>\n",
       "      <td>2.0</td>\n",
       "      <td>Puerto Rico</td>\n",
       "      <td>COVID-19</td>\n",
       "      <td>COVID-19</td>\n",
       "      <td>U071</td>\n",
       "      <td>75-84</td>\n",
       "      <td>12</td>\n",
       "      <td>12</td>\n",
       "      <td>NaN</td>\n",
       "    </tr>\n",
       "    <tr>\n",
       "      <td>211137</td>\n",
       "      <td>2/21/2021</td>\n",
       "      <td>2/1/2021</td>\n",
       "      <td>2/20/2021</td>\n",
       "      <td>By Month</td>\n",
       "      <td>2,021</td>\n",
       "      <td>2.0</td>\n",
       "      <td>Puerto Rico</td>\n",
       "      <td>COVID-19</td>\n",
       "      <td>COVID-19</td>\n",
       "      <td>U071</td>\n",
       "      <td>85+</td>\n",
       "      <td>NaN</td>\n",
       "      <td>NaN</td>\n",
       "      <td>One or more data cells have counts between 1-9...</td>\n",
       "    </tr>\n",
       "    <tr>\n",
       "      <td>211138</td>\n",
       "      <td>2/21/2021</td>\n",
       "      <td>2/1/2021</td>\n",
       "      <td>2/20/2021</td>\n",
       "      <td>By Month</td>\n",
       "      <td>2,021</td>\n",
       "      <td>2.0</td>\n",
       "      <td>Puerto Rico</td>\n",
       "      <td>COVID-19</td>\n",
       "      <td>COVID-19</td>\n",
       "      <td>U071</td>\n",
       "      <td>Not stated</td>\n",
       "      <td>0</td>\n",
       "      <td>0</td>\n",
       "      <td>NaN</td>\n",
       "    </tr>\n",
       "    <tr>\n",
       "      <td>211139</td>\n",
       "      <td>2/21/2021</td>\n",
       "      <td>2/1/2021</td>\n",
       "      <td>2/20/2021</td>\n",
       "      <td>By Month</td>\n",
       "      <td>2,021</td>\n",
       "      <td>2.0</td>\n",
       "      <td>Puerto Rico</td>\n",
       "      <td>COVID-19</td>\n",
       "      <td>COVID-19</td>\n",
       "      <td>U071</td>\n",
       "      <td>All Ages</td>\n",
       "      <td>37</td>\n",
       "      <td>37</td>\n",
       "      <td>NaN</td>\n",
       "    </tr>\n",
       "  </tbody>\n",
       "</table>\n",
       "<p>211140 rows × 14 columns</p>\n",
       "</div>"
      ],
      "text/plain": [
       "       Data As Of Start Date   End Date     Group   Year  Month  \\\n",
       "0       2/21/2021   1/1/2020  2/20/2021  By Total    NaN    NaN   \n",
       "1       2/21/2021   1/1/2020  2/20/2021  By Total    NaN    NaN   \n",
       "2       2/21/2021   1/1/2020  2/20/2021  By Total    NaN    NaN   \n",
       "3       2/21/2021   1/1/2020  2/20/2021  By Total    NaN    NaN   \n",
       "4       2/21/2021   1/1/2020  2/20/2021  By Total    NaN    NaN   \n",
       "...           ...        ...        ...       ...    ...    ...   \n",
       "211135  2/21/2021   2/1/2021  2/20/2021  By Month  2,021    2.0   \n",
       "211136  2/21/2021   2/1/2021  2/20/2021  By Month  2,021    2.0   \n",
       "211137  2/21/2021   2/1/2021  2/20/2021  By Month  2,021    2.0   \n",
       "211138  2/21/2021   2/1/2021  2/20/2021  By Month  2,021    2.0   \n",
       "211139  2/21/2021   2/1/2021  2/20/2021  By Month  2,021    2.0   \n",
       "\n",
       "                State       Condition Group                Condition  \\\n",
       "0       United States  Respiratory diseases  Influenza and pneumonia   \n",
       "1       United States  Respiratory diseases  Influenza and pneumonia   \n",
       "2       United States  Respiratory diseases  Influenza and pneumonia   \n",
       "3       United States  Respiratory diseases  Influenza and pneumonia   \n",
       "4       United States  Respiratory diseases  Influenza and pneumonia   \n",
       "...               ...                   ...                      ...   \n",
       "211135    Puerto Rico              COVID-19                 COVID-19   \n",
       "211136    Puerto Rico              COVID-19                 COVID-19   \n",
       "211137    Puerto Rico              COVID-19                 COVID-19   \n",
       "211138    Puerto Rico              COVID-19                 COVID-19   \n",
       "211139    Puerto Rico              COVID-19                 COVID-19   \n",
       "\n",
       "       ICD10_codes   Age Group COVID-19 Deaths Number of Mentions  \\\n",
       "0          J09-J18        0-24             284                292   \n",
       "1          J09-J18       25-34           1,330              1,352   \n",
       "2          J09-J18       35-44           3,620              3,698   \n",
       "3          J09-J18       45-54          10,765             11,042   \n",
       "4          J09-J18       55-64          27,513             28,161   \n",
       "...            ...         ...             ...                ...   \n",
       "211135        U071       65-74              10                 10   \n",
       "211136        U071       75-84              12                 12   \n",
       "211137        U071         85+             NaN                NaN   \n",
       "211138        U071  Not stated               0                  0   \n",
       "211139        U071    All Ages              37                 37   \n",
       "\n",
       "                                                     Flag  \n",
       "0                                                     NaN  \n",
       "1                                                     NaN  \n",
       "2                                                     NaN  \n",
       "3                                                     NaN  \n",
       "4                                                     NaN  \n",
       "...                                                   ...  \n",
       "211135                                                NaN  \n",
       "211136                                                NaN  \n",
       "211137  One or more data cells have counts between 1-9...  \n",
       "211138                                                NaN  \n",
       "211139                                                NaN  \n",
       "\n",
       "[211140 rows x 14 columns]"
      ]
     },
     "execution_count": 2,
     "metadata": {},
     "output_type": "execute_result"
    }
   ],
   "source": [
    "df = pd.read_csv('Conditions_contributing_to_deaths_involving_coronavirus_disease_2019__COVID-19___by_age_group_and_state__United_States..csv')\n",
    "df"
   ]
  },
  {
   "cell_type": "code",
   "execution_count": 3,
   "metadata": {},
   "outputs": [
    {
     "name": "stderr",
     "output_type": "stream",
     "text": [
      "C:\\Users\\student\\Anaconda3\\lib\\site-packages\\ipykernel_launcher.py:11: SettingWithCopyWarning: \n",
      "A value is trying to be set on a copy of a slice from a DataFrame.\n",
      "Try using .loc[row_indexer,col_indexer] = value instead\n",
      "\n",
      "See the caveats in the documentation: http://pandas.pydata.org/pandas-docs/stable/user_guide/indexing.html#returning-a-view-versus-a-copy\n",
      "  # This is added back by InteractiveShellApp.init_path()\n"
     ]
    },
    {
     "data": {
      "text/plain": [
       "[210011,\n",
       " 41546,\n",
       " 49403,\n",
       " 172969,\n",
       " 9988,\n",
       " 17981,\n",
       " 93250,\n",
       " 50891,\n",
       " 55176,\n",
       " 33657,\n",
       " 35085,\n",
       " 22752,\n",
       " 28076,\n",
       " 42760,\n",
       " 21194,\n",
       " 74350,\n",
       " 17770,\n",
       " 18154,\n",
       " 49312,\n",
       " 43793,\n",
       " 8964,\n",
       " 173096,\n",
       " 468643]"
      ]
     },
     "execution_count": 3,
     "metadata": {},
     "output_type": "execute_result"
    }
   ],
   "source": [
    "df = pd.read_csv('Conditions_contributing_to_deaths_involving_coronavirus_disease_2019__COVID-19___by_age_group_and_state__United_States..csv')\n",
    "df = df[['Group','Condition','COVID-19 Deaths', 'Age Group', 'State']]\n",
    "df = df[df['Group'] == 'By Total']\n",
    "df = df.dropna()\n",
    "condition_lst = df['Condition'].unique()\n",
    "sum_lst = []\n",
    "\n",
    "for condition in condition_lst:\n",
    "\n",
    "    subset = df[(df['Condition'] == condition) & (df['Age Group'] == 'All Ages') & (df['State'] == 'United States')]\n",
    "    subset['COVID-19 Deaths'] = list(map(lambda x: int(x.replace(',', '')), subset['COVID-19 Deaths']))\n",
    "    death_sum = subset['COVID-19 Deaths'].sum()\n",
    "    \n",
    "    sum_lst.append(death_sum)\n",
    "sum_lst"
   ]
  },
  {
   "cell_type": "code",
   "execution_count": 28,
   "metadata": {},
   "outputs": [
    {
     "name": "stdout",
     "output_type": "stream",
     "text": [
      "['Influenza and pneumonia', 'Chronic lower respiratory diseases', 'Adult respiratory distress syndrome', 'Respiratory failure', 'Respiratory arrest', 'Other diseases of the respiratory system', 'Hypertensive diseases', 'Ischemic heart disease', 'Cardiac arrest', 'Cardiac arrhythmia', 'Heart failure', 'Cerebrovascular diseases', 'Other diseases of the circulatory system', 'Sepsis', 'Malignant neoplasms', 'Diabetes', 'Obesity', 'Alzheimer disease', 'Vascular and unspecified dementia', 'Renal failure', 'Intentional and unintentional injury, poisoning, and other adverse events', 'All other conditions and causes (residual)', 'COVID-19']\n"
     ]
    }
   ],
   "source": [
    "# all the comorbidities that need to be observed\n",
    "import numpy as np\n",
    "conditions = df['Condition'].unique()\n",
    "conditions = conditions.tolist()\n",
    "print(conditions)"
   ]
  },
  {
   "cell_type": "code",
   "execution_count": 29,
   "metadata": {},
   "outputs": [
    {
     "data": {
      "image/png": "[encoded data removed]",
      "text/plain": [
       "<Figure size 432x288 with 1 Axes>"
      ]
     },
     "metadata": {
      "needs_background": "light"
     },
     "output_type": "display_data"
    }
   ],
   "source": [
    "plt.bar(condition_lst, sum_lst) # Note: COVID-19 in graph refers to all other comorbidites combined\n",
    "plt.xticks(rotation = -90)\n",
    "plt.ylabel('Number of deaths')\n",
    "plt.title('Number of Deaths by Comorbidity')\n",
    "plt.show()"
   ]
  },
  {
   "cell_type": "code",
   "execution_count": 33,
   "metadata": {},
   "outputs": [
    {
     "name": "stdout",
     "output_type": "stream",
     "text": [
      "['Influenza and pneumonia', 'Chronic lower respiratory diseases', 'Adult respiratory distress syndrome', 'Respiratory failure', 'Respiratory arrest', 'Other diseases of the respiratory system', 'Hypertensive diseases', 'Ischemic heart disease', 'Cardiac arrest', 'Cardiac arrhythmia', 'Heart failure', 'Cerebrovascular diseases', 'Other diseases of the circulatory system', 'Sepsis', 'Malignant neoplasms', 'Diabetes', 'Obesity', 'Alzheimer disease', 'Vascular and unspecified dementia', 'Renal failure', 'Intentional and unintentional injury, poisoning, and other adverse events', 'All other conditions and causes (residual)']\n"
     ]
    }
   ],
   "source": [
    "conditions.remove(conditions[-1]) # removed COVID-19 from condition list\n",
    "condition_no_covid = conditions\n",
    "print(condition_no_covid)"
   ]
  },
  {
   "cell_type": "code",
   "execution_count": 39,
   "metadata": {},
   "outputs": [
    {
     "name": "stdout",
     "output_type": "stream",
     "text": [
      "[210011, 41546, 49403, 172969, 9988, 17981, 93250, 50891, 55176, 33657, 35085, 22752, 28076, 42760, 21194, 74350, 17770, 18154, 49312, 43793, 8964, 173096]\n"
     ]
    }
   ],
   "source": [
    "sum_lst.remove(sum_lst[-1]) # removed death count associated with COVID-19\n",
    "sum_no_covid = sum_lst\n",
    "print(sum_no_covid)"
   ]
  },
  {
   "cell_type": "code",
   "execution_count": 58,
   "metadata": {},
   "outputs": [
    {
     "name": "stdout",
     "output_type": "stream",
     "text": [
      "                                            Number of Deaths\n",
      "Condition                                                   \n",
      "Influenza and pneumonia                               210011\n",
      "All other conditions and causes (residual)            173096\n",
      "Respiratory failure                                   172969\n",
      "Hypertensive diseases                                  93250\n",
      "Diabetes                                               74350\n"
     ]
    }
   ],
   "source": [
    "# Getting top 5 contributing comorbidities\n",
    "data = {'Condition': condition_no_covid, 'Number of Deaths': sum_no_covid}\n",
    "df2 = pd.DataFrame(data)\n",
    "top_5 = df2.nlargest(5, 'Number of Deaths')\n",
    "top_5.set_index('Condition', inplace=True)\n",
    "print(top_5)"
   ]
  },
  {
   "cell_type": "code",
   "execution_count": 76,
   "metadata": {
    "scrolled": true
   },
   "outputs": [
    {
     "data": {
      "image/png": "[encoded data removed]",
      "text/plain": [
       "<Figure size 432x288 with 1 Axes>"
      ]
     },
     "metadata": {},
     "output_type": "display_data"
    }
   ],
   "source": [
    "# plotting top 5 comorbidities that contribute to death\n",
    "plot = top_5.plot.pie(y='Number of Deaths', autopct='%1.2f%%', legend=False, \n",
    "                      title='Top 5 Comorbidities Contriuting to COVID-19 Death')"
   ]
  },
  {
   "cell_type": "code",
   "execution_count": 71,
   "metadata": {},
   "outputs": [
    {
     "data": {
      "text/plain": [
       "Text(0.5, 1.0, 'Comorbidities and Number of Deaths')"
      ]
     },
     "execution_count": 71,
     "metadata": {},
     "output_type": "execute_result"
    },
    {
     "data": {
      "image/png": "[encoded data removed]",
      "text/plain": [
       "<Figure size 432x288 with 1 Axes>"
      ]
     },
     "metadata": {
      "needs_background": "light"
     },
     "output_type": "display_data"
    }
   ],
   "source": [
    "# displaying box and whisker plot of all conditions\n",
    "plt.boxplot(sum_no_covid, showmeans=True)\n",
    "plt.title('Comorbidities and Number of Deaths')"
   ]
  },
  {
   "cell_type": "code",
   "execution_count": null,
   "metadata": {},
   "outputs": [],
   "source": []
  }
 ],
 "metadata": {
  "kernelspec": {
   "display_name": "Python 3",
   "language": "python",
   "name": "python3"
  },
  "language_info": {
   "codemirror_mode": {
    "name": "ipython",
    "version": 3
   },
   "file_extension": ".py",
   "mimetype": "text/x-python",
   "name": "python",
   "nbconvert_exporter": "python",
   "pygments_lexer": "ipython3",
   "version": "3.7.4"
  }
 },
 "nbformat": 4,
 "nbformat_minor": 2
}
